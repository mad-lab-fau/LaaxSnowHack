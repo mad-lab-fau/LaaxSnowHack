{
 "cells": [
  {
   "cell_type": "code",
   "execution_count": null,
   "metadata": {},
   "outputs": [],
   "source": [
    "import matplotlib.pyplot as plt\n",
    "import tkinter as tk\n",
    "from tkinter import filedialog\n",
    "import numpy as np\n",
    "import pandas as pd\n",
    "from scipy import signal\n",
    "import datetime\n",
    "\n",
    "plt.close('all')\n",
    "%matplotlib notebook"
   ]
  },
  {
   "cell_type": "markdown",
   "metadata": {},
   "source": [
    "# Watch the video"
   ]
  },
  {
   "cell_type": "code",
   "execution_count": null,
   "metadata": {},
   "outputs": [],
   "source": [
    "import io\n",
    "import base64\n",
    "from IPython.display import HTML\n",
    "video_path = r\"C:\\Users\\marti\\Google Drive\\01_data_IMUandVIDEO\\raw_noSync_noCalib\\Team_NilsMartinTobi\\Saturday_morning\\3F7F\\preprocessed\\combinedVideo_104418_to_104636.mp4\"\n",
    "video = io.open(video_path, 'r+b').read()\n",
    "encoded = base64.b64encode(video)\n",
    "HTML(data='''<video width=\"700\" controls>\n",
    "                <source src=\"data:video/mp4;base64,{0}\" type=\"video/mp4\" />\n",
    "             </video>'''.format(encoded.decode('ascii')))"
   ]
  },
  {
   "cell_type": "markdown",
   "metadata": {},
   "source": [
    "# Load Data"
   ]
  },
  {
   "cell_type": "code",
   "execution_count": null,
   "metadata": {},
   "outputs": [],
   "source": [
    "file_path = r\"C:\\Users\\marti\\Google Drive\\01_data_IMUandVIDEO\\raw_noSync_noCalib\\Team_NilsMartinTobi\\Saturday_morning\\3F7F\\preprocessed\\NilsPodX-3F7F_20190406_1036_calib_sync.csv\"\n",
    "dataset = pd.read_csv(file_path)"
   ]
  },
  {
   "cell_type": "markdown",
   "metadata": {},
   "source": [
    "# Create Time Axis"
   ]
  },
  {
   "cell_type": "code",
   "execution_count": null,
   "metadata": {},
   "outputs": [],
   "source": [
    "n = len(dataset[\"sample_ctr\"])\n",
    "sampling_rate = 204.8\n",
    "\n",
    "today = datetime.datetime.now()\n",
    "today_morning = datetime.datetime.strptime((today.strftime('%Y%m%d') + \"000000\"),\"%Y%m%d%H%M%S\")\n",
    "session_start_time = datetime.datetime.strptime(dataset[\"time_received_debug\"][0],\"%H:%M:%S\").time()\n",
    "session_start_datetime = datetime.datetime.combine(today_morning.date(),session_start_time)\n",
    "time_axis = [session_start_datetime+datetime.timedelta(milliseconds=idx*(1/sampling_rate)*1000) for idx,cnt in enumerate(dataset[\"sample_ctr\"])]"
   ]
  },
  {
   "cell_type": "markdown",
   "metadata": {},
   "source": [
    "# Filter Data"
   ]
  },
  {
   "cell_type": "code",
   "execution_count": null,
   "metadata": {},
   "outputs": [],
   "source": [
    "fc = 0.25  # Cut-off frequency of the filter\n",
    "w = fc / (sampling_rate / 2) # Normalize the frequency\n",
    "b, a = signal.butter(5, w, 'low')\n",
    "acc_x_filtered = signal.filtfilt(b, a, dataset[\"acc_x\"])\n",
    "acc_y_filtered = signal.filtfilt(b, a, dataset[\"acc_y\"])\n",
    "acc_z_filtered = signal.filtfilt(b, a, dataset[\"acc_z\"])\n",
    "gyro_x_filtered = signal.filtfilt(b, a, dataset[\"gyro_x\"])\n",
    "gyro_y_filtered = signal.filtfilt(b, a, dataset[\"gyro_y\"])\n",
    "gyro_z_filtered = signal.filtfilt(b, a, dataset[\"gyro_z\"])\n",
    "\n",
    "acc_x_filtered = signal.savgol_filter(dataset[\"acc_x\"],1201,3)\n",
    "acc_x_rolling = pd.DataFrame(acc_x_filtered).rolling(2000).mean()\n",
    "acc_x_sign = np.sign(acc_x_rolling)\n",
    "acc_x_sign_filtered = pd.DataFrame(acc_x_sign).rolling(1000).median()"
   ]
  },
  {
   "cell_type": "markdown",
   "metadata": {},
   "source": [
    "# Plot Acc Data (see sync peaks)"
   ]
  },
  {
   "cell_type": "code",
   "execution_count": null,
   "metadata": {
    "scrolled": false
   },
   "outputs": [],
   "source": [
    "plt.figure(figsize=(10, 5));\n",
    "#plt.plot(time_axis,dataset[\"acc_x\"],label=\"x\")\n",
    "plt.plot(time_axis,dataset[\"acc_y\"],label=\"y\")\n",
    "#plt.plot(time_axis,dataset[\"acc_z\"],label=\"z\")\n",
    "plt.title('Accelerometer')\n",
    "plt.legend();"
   ]
  },
  {
   "cell_type": "markdown",
   "metadata": {},
   "source": [
    "# Direction Detector"
   ]
  },
  {
   "cell_type": "code",
   "execution_count": null,
   "metadata": {},
   "outputs": [],
   "source": [
    "plt.figure(figsize=(10, 5))\n",
    "#plt.plot(time_axis,dataset[\"acc_y\"],label=\"x_filtered\")\n",
    "plt.plot(time_axis,acc_x_filtered,label=\"x_filtered\")\n",
    "plt.plot(time_axis,acc_x_rolling,label=\"x_rolling_mean\")\n",
    "plt.plot(time_axis,acc_x_sign_filtered,label=\"direction_detector\")\n",
    "plt.hlines(0,time_axis[0],time_axis[-1])\n",
    "plt.xlabel('acceleration', fontsize=18)\n",
    "plt.ylabel('datetime', fontsize=16)\n",
    "plt.legend(loc='upper right');"
   ]
  },
  {
   "cell_type": "code",
   "execution_count": null,
   "metadata": {},
   "outputs": [],
   "source": [
    "plt.figure(figsize=(10, 5));\n",
    "plt.plot(time_axis,gyro_x_filtered,label=\"gyro_x\")\n",
    "plt.plot(time_axis,gyro_z_filtered,label=\"gyro_z\")\n",
    "plt.plot(time_axis,acc_x_sign_filtered*50,label=\"x_rolling_sign\")\n",
    "plt.hlines(0,time_axis[0],time_axis[-1])\n",
    "plt.title('Accelerometer')\n",
    "plt.legend(loc='upper right');"
   ]
  }
 ],
 "metadata": {
  "kernelspec": {
   "display_name": "Python 3",
   "language": "python",
   "name": "python3"
  },
  "language_info": {
   "codemirror_mode": {
    "name": "ipython",
    "version": 3
   },
   "file_extension": ".py",
   "mimetype": "text/x-python",
   "name": "python",
   "nbconvert_exporter": "python",
   "pygments_lexer": "ipython3",
   "version": "3.6.4"
  }
 },
 "nbformat": 4,
 "nbformat_minor": 2
}
